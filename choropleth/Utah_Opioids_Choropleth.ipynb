{
 "cells": [
  {
   "cell_type": "markdown",
   "metadata": {},
   "source": [
    "# 1 Load Data\n",
    "## 1.1 Import Packages\n",
    "I will work with this dataset as a pandas dataframe, so I will need the pandas package. Additionally, I will visualize this as a choropleth, so I will need the folium package to map the values. "
   ]
  },
  {
   "cell_type": "code",
   "execution_count": 1,
   "metadata": {},
   "outputs": [],
   "source": [
    "import pandas as pd\n",
    "import folium"
   ]
  },
  {
   "cell_type": "markdown",
   "metadata": {},
   "source": [
    "## 1.2 Import Data\n",
    "There are two CSVs I will need for this project. The first is the opioid prescription data itself, and the second is the county demographic data, which I scraped from Wikipedia. "
   ]
  },
  {
   "cell_type": "code",
   "execution_count": 2,
   "metadata": {},
   "outputs": [],
   "source": [
    "#read in the two csv files: ut_op is the opioid prescription data, and ut_counties is the county population data\n",
    "ut_op = pd.read_csv(\"Utah_Opioid_Prescription_Data_by_City_Zip___County_2015_2016.csv\")\n",
    "ut_counties = pd.read_csv(\"ut_county_pops.csv\")"
   ]
  },
  {
   "cell_type": "markdown",
   "metadata": {},
   "source": [
    "# 2 Data Analysis\n",
    "## 2.1 Data Grouping\n",
    "The data are separated out by individual healthcare provider, but I want county-level data. To get this, I will use the groupby() function, and group the data by county, getting the sum of prescriptions for each group."
   ]
  },
  {
   "cell_type": "code",
   "execution_count": 3,
   "metadata": {},
   "outputs": [],
   "source": [
    "#find the total number of opioid prescriptions for each county using groupby method\n",
    "cnty_op_claim = ut_op.groupby('County').OpioidClaimCount.sum()"
   ]
  },
  {
   "cell_type": "markdown",
   "metadata": {},
   "source": [
    "## 2.2 Data Merging\n",
    "Now that the prescription data are aggregated by county, we can merge it with the county demographic data on each of their conty columns."
   ]
  },
  {
   "cell_type": "code",
   "execution_count": 4,
   "metadata": {},
   "outputs": [],
   "source": [
    "#merge the county level opioid data with the county population data. merge on county name.\n",
    "cnty_op_claim = pd.merge(cnty_op_claim, ut_counties, how = 'left', on = 'County')"
   ]
  },
  {
   "cell_type": "markdown",
   "metadata": {},
   "source": [
    "## 2.3 Calucated Columns\n",
    "To get a rate that can be compared between counties, I will create a new column, \"op_scrip_rate\", which will simply be the total opioid claim count divided by that population of that county. "
   ]
  },
  {
   "cell_type": "code",
   "execution_count": 5,
   "metadata": {},
   "outputs": [],
   "source": [
    "#create a new column that shows the number of opioid perscriptions per person in the county\n",
    "cnty_op_claim['op_scrip_rate'] = cnty_op_claim['OpioidClaimCount']/cnty_op_claim['Population']"
   ]
  },
  {
   "cell_type": "markdown",
   "metadata": {},
   "source": [
    "## 2.4 Data Preparation\n",
    "To make it so the data aligns with the geojson file I am using for the map, I need to change the \"County\" column to \"NAME\", as well as change all the strings in the dataframe to upper case."
   ]
  },
  {
   "cell_type": "code",
   "execution_count": 6,
   "metadata": {},
   "outputs": [],
   "source": [
    "#rename the county column so it matches the attribute in the \n",
    "#geojson file, and change all strings in the dataframe to upper case\n",
    "cnty_op_claim = cnty_op_claim.rename(columns={'County' : 'NAME'})\n",
    "cnty_op_claim.columns = map(lambda x: str(x).upper(), cnty_op_claim.columns)\n",
    "cnty_op_claim['NAME'] = cnty_op_claim['NAME'].str.upper()"
   ]
  },
  {
   "cell_type": "markdown",
   "metadata": {},
   "source": [
    "# 3 Visualization\n",
    "I will also use Tableau to visualize this dataset, but for the purposes of completeness (and reproducibility) I will also export this in a format that is open source, using teh folium package."
   ]
  },
  {
   "cell_type": "code",
   "execution_count": 7,
   "metadata": {},
   "outputs": [
    {
     "name": "stderr",
     "output_type": "stream",
     "text": [
      "C:\\Users\\dalli\\anaconda3\\envs\\Python and R Main\\lib\\site-packages\\folium\\folium.py:411: FutureWarning: The choropleth  method has been deprecated. Instead use the new Choropleth class, which has the same arguments. See the example notebook 'GeoJSON_and_choropleth' for how to do this.\n",
      "  warnings.warn(\n"
     ]
    }
   ],
   "source": [
    "#make a choropleth map where color is determined based on op_scrip_rate\n",
    "#use geojson file for county shape data\n",
    "county_map = '051acb66-8e4b-4c24-9da8-057bfdb69dcf202041-1-1ikt18k.0n4a.geojson'\n",
    "\n",
    "#establish features of final map (center and zoom)\n",
    "m = folium.Map(location=[40,-111], zoom_start=7)\n",
    "\n",
    "#create choropleth\n",
    "m.choropleth(\n",
    " geo_data=county_map,\n",
    " name='choropleth',\n",
    " data=cnty_op_claim,\n",
    " columns=['NAME', 'OP_SCRIP_RATE'],\n",
    " key_on='feature.properties.NAME',\n",
    " fill_color='BuPu',\n",
    " fill_opacity=0.7,\n",
    " line_opacity=0.5,\n",
    " legend_name='Opioid Prescriptions Per Person (2015-2016)'\n",
    ")\n",
    "\n",
    "#save choropleth as html file\n",
    "m.save('UT_op_choropleth.html')"
   ]
  }
 ],
 "metadata": {
  "kernelspec": {
   "display_name": "Python 3",
   "language": "python",
   "name": "python3"
  },
  "language_info": {
   "codemirror_mode": {
    "name": "ipython",
    "version": 3
   },
   "file_extension": ".py",
   "mimetype": "text/x-python",
   "name": "python",
   "nbconvert_exporter": "python",
   "pygments_lexer": "ipython3",
   "version": "3.7.8"
  }
 },
 "nbformat": 4,
 "nbformat_minor": 4
}
